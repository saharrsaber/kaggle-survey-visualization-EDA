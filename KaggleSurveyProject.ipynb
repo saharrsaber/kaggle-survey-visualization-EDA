{
  "nbformat": 4,
  "nbformat_minor": 0,
  "metadata": {
    "colab": {
      "name": "KaggleSurveyProject.ipynb",
      "provenance": [],
      "collapsed_sections": [],
      "authorship_tag": "ABX9TyOx+chBrzSeaB4ETnV7kpPB",
      "include_colab_link": true
    },
    "kernelspec": {
      "name": "python3",
      "display_name": "Python 3"
    }
  },
  "cells": [
    {
      "cell_type": "markdown",
      "metadata": {
        "id": "view-in-github",
        "colab_type": "text"
      },
      "source": [
        "<a href=\"https://colab.research.google.com/github/saharrsaber/kaggle-survey-visualization-EDA/blob/main/KaggleSurveyProject.ipynb\" target=\"_parent\"><img src=\"https://colab.research.google.com/assets/colab-badge.svg\" alt=\"Open In Colab\"/></a>"
      ]
    },
    {
      "cell_type": "markdown",
      "metadata": {
        "id": "7ejNzz_tXRq8"
      },
      "source": [
        "### Importing required libraries\r\n",
        "* Pandas: storing the dataset\r\n",
        "* Matplotlib: visualize the data\r\n",
        "* Numpy: for statistical methods\r\n"
      ]
    },
    {
      "cell_type": "code",
      "metadata": {
        "id": "njVWYK_ZU16t"
      },
      "source": [
        "%matplotlib inline\r\n",
        "import pandas as pd\r\n",
        "import matplotlib.pyplot as plt\r\n",
        "import numpy as np\r\n",
        "from statsmodels.graphics.mosaicplot import mosaic\r\n",
        "import pandas.util.testing as tm"
      ],
      "execution_count": 43,
      "outputs": []
    },
    {
      "cell_type": "markdown",
      "metadata": {
        "id": "9NnPx7U-VLEj"
      },
      "source": [
        "## Upload Dataset\r\n"
      ]
    },
    {
      "cell_type": "code",
      "metadata": {
        "colab": {
          "base_uri": "https://localhost:8080/"
        },
        "id": "U3JuxcYYYKnS",
        "outputId": "568c73d4-3d82-4898-ea79-799bbb2e6bbe"
      },
      "source": [
        "from google.colab import drive\r\n",
        "drive.mount('/content/drive')"
      ],
      "execution_count": 44,
      "outputs": [
        {
          "output_type": "stream",
          "text": [
            "Drive already mounted at /content/drive; to attempt to forcibly remount, call drive.mount(\"/content/drive\", force_remount=True).\n"
          ],
          "name": "stdout"
        }
      ]
    },
    {
      "cell_type": "code",
      "metadata": {
        "colab": {
          "base_uri": "https://localhost:8080/"
        },
        "id": "lev2mQ8NYnIo",
        "outputId": "4752646c-8c01-4fdb-bad2-f9acd832ea6b"
      },
      "source": [
        "path = \"/content/drive/MyDrive/Python Notebooks/Kaggle Survey/kaggle_survey_2020_responses.csv\"\r\n",
        "DATA = pd.read_csv(path, skiprows=1)\r\n",
        "DATA.columns"
      ],
      "execution_count": 45,
      "outputs": [
        {
          "output_type": "execute_result",
          "data": {
            "text/plain": [
              "Index(['Duration (in seconds)', 'What is your age (# years)?',\n",
              "       'What is your gender? - Selected Choice',\n",
              "       'In which country do you currently reside?',\n",
              "       'What is the highest level of formal education that you have attained or plan to attain within the next 2 years?',\n",
              "       'Select the title most similar to your current role (or most recent title if retired): - Selected Choice',\n",
              "       'For how many years have you been writing code and/or programming?',\n",
              "       'What programming languages do you use on a regular basis? (Select all that apply) - Selected Choice - Python',\n",
              "       'What programming languages do you use on a regular basis? (Select all that apply) - Selected Choice - R',\n",
              "       'What programming languages do you use on a regular basis? (Select all that apply) - Selected Choice - SQL',\n",
              "       ...\n",
              "       'In the next 2 years, do you hope to become more familiar with any of these tools for managing ML experiments? (Select all that apply) - Selected Choice -  Weights & Biases ',\n",
              "       'In the next 2 years, do you hope to become more familiar with any of these tools for managing ML experiments? (Select all that apply) - Selected Choice -  Comet.ml ',\n",
              "       'In the next 2 years, do you hope to become more familiar with any of these tools for managing ML experiments? (Select all that apply) - Selected Choice -  Sacred + Omniboard ',\n",
              "       'In the next 2 years, do you hope to become more familiar with any of these tools for managing ML experiments? (Select all that apply) - Selected Choice -  TensorBoard ',\n",
              "       'In the next 2 years, do you hope to become more familiar with any of these tools for managing ML experiments? (Select all that apply) - Selected Choice -  Guild.ai ',\n",
              "       'In the next 2 years, do you hope to become more familiar with any of these tools for managing ML experiments? (Select all that apply) - Selected Choice -  Polyaxon ',\n",
              "       'In the next 2 years, do you hope to become more familiar with any of these tools for managing ML experiments? (Select all that apply) - Selected Choice -  Trains ',\n",
              "       'In the next 2 years, do you hope to become more familiar with any of these tools for managing ML experiments? (Select all that apply) - Selected Choice -  Domino Model Monitor ',\n",
              "       'In the next 2 years, do you hope to become more familiar with any of these tools for managing ML experiments? (Select all that apply) - Selected Choice - None',\n",
              "       'In the next 2 years, do you hope to become more familiar with any of these tools for managing ML experiments? (Select all that apply) - Selected Choice - Other'],\n",
              "      dtype='object', length=355)"
            ]
          },
          "metadata": {
            "tags": []
          },
          "execution_count": 45
        }
      ]
    },
    {
      "cell_type": "markdown",
      "metadata": {
        "id": "88KrB_Elfccp"
      },
      "source": [
        "Selected Cols"
      ]
    },
    {
      "cell_type": "code",
      "metadata": {
        "colab": {
          "base_uri": "https://localhost:8080/",
          "height": 279
        },
        "id": "guK3Sx4DcxCa",
        "outputId": "ac5ca8cf-dcde-45b4-e4b1-3aaa1d20d3e1"
      },
      "source": [
        "use_cols = ['What is your gender? - Selected Choice',\r\n",
        "       'In which country do you currently reside?',\r\n",
        "       'What is the highest level of formal education that you have attained or plan to attain within the next 2 years?',\r\n",
        "       'Select the title most similar to your current role (or most recent title if retired): - Selected Choice',\r\n",
        "       'For how many years have you been writing code and/or programming?',\r\n",
        "       'What programming language would you recommend an aspiring data scientist to learn first? - Selected Choice',\r\n",
        "       'For how many years have you used machine learning methods?',\r\n",
        "       'What is the size of the company where you are employed?',\r\n",
        "       'Approximately how many individuals are responsible for data science workloads at your place of business?',\r\n",
        "       'Does your current employer incorporate machine learning methods into their business?'\r\n",
        "       ]\r\n",
        "col_names = ['gender', 'country', 'education', 'role', 'years_experience', 'recommend_language', 'years_ML', 'company_size','ds_size','company_ML']\r\n",
        "\r\n",
        "df = pd.read_csv(path, skiprows=1, usecols= use_cols)\r\n",
        "df.columns = col_names\r\n",
        "df.head()"
      ],
      "execution_count": 46,
      "outputs": [
        {
          "output_type": "execute_result",
          "data": {
            "text/html": [
              "<div>\n",
              "<style scoped>\n",
              "    .dataframe tbody tr th:only-of-type {\n",
              "        vertical-align: middle;\n",
              "    }\n",
              "\n",
              "    .dataframe tbody tr th {\n",
              "        vertical-align: top;\n",
              "    }\n",
              "\n",
              "    .dataframe thead th {\n",
              "        text-align: right;\n",
              "    }\n",
              "</style>\n",
              "<table border=\"1\" class=\"dataframe\">\n",
              "  <thead>\n",
              "    <tr style=\"text-align: right;\">\n",
              "      <th></th>\n",
              "      <th>gender</th>\n",
              "      <th>country</th>\n",
              "      <th>education</th>\n",
              "      <th>role</th>\n",
              "      <th>years_experience</th>\n",
              "      <th>recommend_language</th>\n",
              "      <th>years_ML</th>\n",
              "      <th>company_size</th>\n",
              "      <th>ds_size</th>\n",
              "      <th>company_ML</th>\n",
              "    </tr>\n",
              "  </thead>\n",
              "  <tbody>\n",
              "    <tr>\n",
              "      <th>0</th>\n",
              "      <td>Man</td>\n",
              "      <td>Colombia</td>\n",
              "      <td>Doctoral degree</td>\n",
              "      <td>Student</td>\n",
              "      <td>5-10 years</td>\n",
              "      <td>Python</td>\n",
              "      <td>1-2 years</td>\n",
              "      <td>NaN</td>\n",
              "      <td>NaN</td>\n",
              "      <td>NaN</td>\n",
              "    </tr>\n",
              "    <tr>\n",
              "      <th>1</th>\n",
              "      <td>Man</td>\n",
              "      <td>United States of America</td>\n",
              "      <td>Master’s degree</td>\n",
              "      <td>Data Engineer</td>\n",
              "      <td>5-10 years</td>\n",
              "      <td>Python</td>\n",
              "      <td>1-2 years</td>\n",
              "      <td>10,000 or more employees</td>\n",
              "      <td>20+</td>\n",
              "      <td>We have well established ML methods (i.e., mod...</td>\n",
              "    </tr>\n",
              "    <tr>\n",
              "      <th>2</th>\n",
              "      <td>Man</td>\n",
              "      <td>Argentina</td>\n",
              "      <td>Bachelor’s degree</td>\n",
              "      <td>Software Engineer</td>\n",
              "      <td>10-20 years</td>\n",
              "      <td>R</td>\n",
              "      <td>I do not use machine learning methods</td>\n",
              "      <td>1000-9,999 employees</td>\n",
              "      <td>0</td>\n",
              "      <td>No (we do not use ML methods)</td>\n",
              "    </tr>\n",
              "    <tr>\n",
              "      <th>3</th>\n",
              "      <td>Man</td>\n",
              "      <td>United States of America</td>\n",
              "      <td>Master’s degree</td>\n",
              "      <td>Data Scientist</td>\n",
              "      <td>5-10 years</td>\n",
              "      <td>Python</td>\n",
              "      <td>3-4 years</td>\n",
              "      <td>250-999 employees</td>\n",
              "      <td>5-9</td>\n",
              "      <td>We have well established ML methods (i.e., mod...</td>\n",
              "    </tr>\n",
              "    <tr>\n",
              "      <th>4</th>\n",
              "      <td>Man</td>\n",
              "      <td>Japan</td>\n",
              "      <td>Master’s degree</td>\n",
              "      <td>Software Engineer</td>\n",
              "      <td>3-5 years</td>\n",
              "      <td>Python</td>\n",
              "      <td>NaN</td>\n",
              "      <td>NaN</td>\n",
              "      <td>NaN</td>\n",
              "      <td>NaN</td>\n",
              "    </tr>\n",
              "  </tbody>\n",
              "</table>\n",
              "</div>"
            ],
            "text/plain": [
              "  gender  ...                                         company_ML\n",
              "0    Man  ...                                                NaN\n",
              "1    Man  ...  We have well established ML methods (i.e., mod...\n",
              "2    Man  ...                      No (we do not use ML methods)\n",
              "3    Man  ...  We have well established ML methods (i.e., mod...\n",
              "4    Man  ...                                                NaN\n",
              "\n",
              "[5 rows x 10 columns]"
            ]
          },
          "metadata": {
            "tags": []
          },
          "execution_count": 46
        }
      ]
    },
    {
      "cell_type": "code",
      "metadata": {
        "colab": {
          "base_uri": "https://localhost:8080/",
          "height": 166
        },
        "id": "h0hIJP8AfrWm",
        "outputId": "6b2afd3b-9806-440e-a740-b86e7c3d99e0"
      },
      "source": [
        "df.describe()"
      ],
      "execution_count": 47,
      "outputs": [
        {
          "output_type": "execute_result",
          "data": {
            "text/html": [
              "<div>\n",
              "<style scoped>\n",
              "    .dataframe tbody tr th:only-of-type {\n",
              "        vertical-align: middle;\n",
              "    }\n",
              "\n",
              "    .dataframe tbody tr th {\n",
              "        vertical-align: top;\n",
              "    }\n",
              "\n",
              "    .dataframe thead th {\n",
              "        text-align: right;\n",
              "    }\n",
              "</style>\n",
              "<table border=\"1\" class=\"dataframe\">\n",
              "  <thead>\n",
              "    <tr style=\"text-align: right;\">\n",
              "      <th></th>\n",
              "      <th>gender</th>\n",
              "      <th>country</th>\n",
              "      <th>education</th>\n",
              "      <th>role</th>\n",
              "      <th>years_experience</th>\n",
              "      <th>recommend_language</th>\n",
              "      <th>years_ML</th>\n",
              "      <th>company_size</th>\n",
              "      <th>ds_size</th>\n",
              "      <th>company_ML</th>\n",
              "    </tr>\n",
              "  </thead>\n",
              "  <tbody>\n",
              "    <tr>\n",
              "      <th>count</th>\n",
              "      <td>20036</td>\n",
              "      <td>20036</td>\n",
              "      <td>19569</td>\n",
              "      <td>19277</td>\n",
              "      <td>19120</td>\n",
              "      <td>17821</td>\n",
              "      <td>16374</td>\n",
              "      <td>11403</td>\n",
              "      <td>11282</td>\n",
              "      <td>11130</td>\n",
              "    </tr>\n",
              "    <tr>\n",
              "      <th>unique</th>\n",
              "      <td>5</td>\n",
              "      <td>55</td>\n",
              "      <td>7</td>\n",
              "      <td>13</td>\n",
              "      <td>7</td>\n",
              "      <td>13</td>\n",
              "      <td>9</td>\n",
              "      <td>5</td>\n",
              "      <td>7</td>\n",
              "      <td>6</td>\n",
              "    </tr>\n",
              "    <tr>\n",
              "      <th>top</th>\n",
              "      <td>Man</td>\n",
              "      <td>India</td>\n",
              "      <td>Master’s degree</td>\n",
              "      <td>Student</td>\n",
              "      <td>3-5 years</td>\n",
              "      <td>Python</td>\n",
              "      <td>Under 1 year</td>\n",
              "      <td>0-49 employees</td>\n",
              "      <td>1-2</td>\n",
              "      <td>We are exploring ML methods (and may one day p...</td>\n",
              "    </tr>\n",
              "    <tr>\n",
              "      <th>freq</th>\n",
              "      <td>15789</td>\n",
              "      <td>5851</td>\n",
              "      <td>7859</td>\n",
              "      <td>5171</td>\n",
              "      <td>4546</td>\n",
              "      <td>14241</td>\n",
              "      <td>6312</td>\n",
              "      <td>4208</td>\n",
              "      <td>2645</td>\n",
              "      <td>2353</td>\n",
              "    </tr>\n",
              "  </tbody>\n",
              "</table>\n",
              "</div>"
            ],
            "text/plain": [
              "       gender  ...                                         company_ML\n",
              "count   20036  ...                                              11130\n",
              "unique      5  ...                                                  6\n",
              "top       Man  ...  We are exploring ML methods (and may one day p...\n",
              "freq    15789  ...                                               2353\n",
              "\n",
              "[4 rows x 10 columns]"
            ]
          },
          "metadata": {
            "tags": []
          },
          "execution_count": 47
        }
      ]
    },
    {
      "cell_type": "code",
      "metadata": {
        "colab": {
          "base_uri": "https://localhost:8080/"
        },
        "id": "Vm3erVq3tOAj",
        "outputId": "c72cfd6b-c029-4b6a-ee8b-06dde3eea6c9"
      },
      "source": [
        "print(df['gender'].unique())\r\n",
        "replace_gender = {\r\n",
        "    'Prefer not to say': 'Others',\r\n",
        "    'Prefer to self-describe': 'Others',\r\n",
        "    'Nonbinary': 'Others', \r\n",
        "}\r\n",
        "df['gender'].replace(replace_gender, inplace=True)\r\n",
        "df['gender'].unique()"
      ],
      "execution_count": 48,
      "outputs": [
        {
          "output_type": "stream",
          "text": [
            "['Man' 'Woman' 'Prefer to self-describe' 'Prefer not to say' 'Nonbinary']\n"
          ],
          "name": "stdout"
        },
        {
          "output_type": "execute_result",
          "data": {
            "text/plain": [
              "array(['Man', 'Woman', 'Others'], dtype=object)"
            ]
          },
          "metadata": {
            "tags": []
          },
          "execution_count": 48
        }
      ]
    },
    {
      "cell_type": "code",
      "metadata": {
        "colab": {
          "base_uri": "https://localhost:8080/",
          "height": 482
        },
        "id": "B6Pi_9sHicgb",
        "outputId": "0a61564b-50c1-45f2-9883-4c8dd9f0d249"
      },
      "source": [
        "colors = ['lightskyblue', 'lightcoral', 'orange']\r\n",
        "plt.figure()\r\n",
        "df[\"gender\"].value_counts().plot.pie(figsize=(8,8), autopct='%1.0f%%',labeldistance = 0.7, colors = colors)\r\n",
        "plt.gca().set_title('Kaggle Survey Gender')\r\n",
        "plt.gca().legend(['Man', 'Woman','Prefer not to say', 'self-desc'])\r\n",
        "plt.axis('equal')\r\n",
        "plt.show()"
      ],
      "execution_count": 49,
      "outputs": [
        {
          "output_type": "display_data",
          "data": {
            "image/png": "[encoded data removed]",
            "text/plain": [
              "<Figure size 576x576 with 1 Axes>"
            ]
          },
          "metadata": {
            "tags": []
          }
        }
      ]
    },
    {
      "cell_type": "code",
      "metadata": {
        "colab": {
          "base_uri": "https://localhost:8080/"
        },
        "id": "zRrJqg9VmmCk",
        "outputId": "89b6b9fc-3976-4583-ffc1-0213b4b8f47e"
      },
      "source": [
        "print(df['education'].unique())\r\n",
        "replace_edu = {\r\n",
        "    'Bachelor’s degree': 'Bachelor',\r\n",
        "    'Doctoral degree': 'Doctoral',\r\n",
        "    'I prefer not to answer':'prefer not to say',\r\n",
        "    'Master’s degree': 'Master’s',\r\n",
        "    'No formal education past high school':'High School',\r\n",
        "    'Professional degree':'Professional degree',\r\n",
        "    'Some college/university study without earning a bachelor’s degree':'some uni'\r\n",
        "}\r\n",
        "df['education'].replace(replace_edu, inplace=True)\r\n",
        "df['education'].unique()"
      ],
      "execution_count": 50,
      "outputs": [
        {
          "output_type": "stream",
          "text": [
            "['Doctoral degree' 'Master’s degree' 'Bachelor’s degree'\n",
            " 'No formal education past high school'\n",
            " 'Some college/university study without earning a bachelor’s degree'\n",
            " 'Professional degree' 'I prefer not to answer' nan]\n"
          ],
          "name": "stdout"
        },
        {
          "output_type": "execute_result",
          "data": {
            "text/plain": [
              "array(['Doctoral', 'Master’s', 'Bachelor', 'High School', 'some uni',\n",
              "       'Professional degree', 'prefer not to say', nan], dtype=object)"
            ]
          },
          "metadata": {
            "tags": []
          },
          "execution_count": 50
        }
      ]
    },
    {
      "cell_type": "code",
      "metadata": {
        "colab": {
          "base_uri": "https://localhost:8080/",
          "height": 482
        },
        "id": "DnylcJ11xo-b",
        "outputId": "83894b3d-4712-47f9-c6c7-7df2b1651f42"
      },
      "source": [
        "plt.figure()\r\n",
        "colors = ['lightskyblue', 'lightcoral', 'orange', '#7bed9f', '#a4b0be','#B33771','#BDC581']\r\n",
        "explode = [0.01]*7\r\n",
        "df[\"education\"].value_counts().plot.pie(figsize=(8,8), autopct='%1.0f%%',labeldistance = 0.75, colors = colors, explode = explode)\r\n",
        "plt.gca().set_title('Highest Degree Education - Kaggle Survey')\r\n",
        "plt.axis('equal')\r\n",
        "plt.show()"
      ],
      "execution_count": 51,
      "outputs": [
        {
          "output_type": "display_data",
          "data": {
            "image/png": "[encoded data removed]",
            "text/plain": [
              "<Figure size 576x576 with 1 Axes>"
            ]
          },
          "metadata": {
            "tags": []
          }
        }
      ]
    },
    {
      "cell_type": "code",
      "metadata": {
        "colab": {
          "base_uri": "https://localhost:8080/",
          "height": 166
        },
        "id": "s9Ba5iwghTjo",
        "outputId": "56e63d4c-94ca-4add-aa4d-01e38b7b255b"
      },
      "source": [
        "pd.crosstab(index=df[\"gender\"], columns=df[\"education\"])  "
      ],
      "execution_count": 52,
      "outputs": [
        {
          "output_type": "execute_result",
          "data": {
            "text/html": [
              "<div>\n",
              "<style scoped>\n",
              "    .dataframe tbody tr th:only-of-type {\n",
              "        vertical-align: middle;\n",
              "    }\n",
              "\n",
              "    .dataframe tbody tr th {\n",
              "        vertical-align: top;\n",
              "    }\n",
              "\n",
              "    .dataframe thead th {\n",
              "        text-align: right;\n",
              "    }\n",
              "</style>\n",
              "<table border=\"1\" class=\"dataframe\">\n",
              "  <thead>\n",
              "    <tr style=\"text-align: right;\">\n",
              "      <th>education</th>\n",
              "      <th>Bachelor</th>\n",
              "      <th>Doctoral</th>\n",
              "      <th>High School</th>\n",
              "      <th>Master’s</th>\n",
              "      <th>Professional degree</th>\n",
              "      <th>prefer not to say</th>\n",
              "      <th>some uni</th>\n",
              "    </tr>\n",
              "    <tr>\n",
              "      <th>gender</th>\n",
              "      <th></th>\n",
              "      <th></th>\n",
              "      <th></th>\n",
              "      <th></th>\n",
              "      <th></th>\n",
              "      <th></th>\n",
              "      <th></th>\n",
              "    </tr>\n",
              "  </thead>\n",
              "  <tbody>\n",
              "    <tr>\n",
              "      <th>Man</th>\n",
              "      <td>5596</td>\n",
              "      <td>1765</td>\n",
              "      <td>218</td>\n",
              "      <td>6125</td>\n",
              "      <td>563</td>\n",
              "      <td>281</td>\n",
              "      <td>898</td>\n",
              "    </tr>\n",
              "    <tr>\n",
              "      <th>Others</th>\n",
              "      <td>100</td>\n",
              "      <td>49</td>\n",
              "      <td>8</td>\n",
              "      <td>126</td>\n",
              "      <td>8</td>\n",
              "      <td>45</td>\n",
              "      <td>23</td>\n",
              "    </tr>\n",
              "    <tr>\n",
              "      <th>Woman</th>\n",
              "      <td>1282</td>\n",
              "      <td>488</td>\n",
              "      <td>14</td>\n",
              "      <td>1608</td>\n",
              "      <td>128</td>\n",
              "      <td>73</td>\n",
              "      <td>171</td>\n",
              "    </tr>\n",
              "  </tbody>\n",
              "</table>\n",
              "</div>"
            ],
            "text/plain": [
              "education  Bachelor  Doctoral  ...  prefer not to say  some uni\n",
              "gender                         ...                             \n",
              "Man            5596      1765  ...                281       898\n",
              "Others          100        49  ...                 45        23\n",
              "Woman          1282       488  ...                 73       171\n",
              "\n",
              "[3 rows x 7 columns]"
            ]
          },
          "metadata": {
            "tags": []
          },
          "execution_count": 52
        }
      ]
    },
    {
      "cell_type": "code",
      "metadata": {
        "id": "nJjI_xNzz08G"
      },
      "source": [
        "man = df[df['gender'] == 'Man']\r\n",
        "woman = df[df['gender'] == 'Woman']\r\n"
      ],
      "execution_count": 53,
      "outputs": []
    },
    {
      "cell_type": "code",
      "metadata": {
        "colab": {
          "base_uri": "https://localhost:8080/",
          "height": 511
        },
        "id": "VxR0a1T2zPvU",
        "outputId": "bb0c1d9d-18ea-48b5-cde7-ed5076dfa7e0"
      },
      "source": [
        "gridnumber = range(1,8)\r\n",
        "gridnumber_2 = [i+0.4 for i in gridnumber ]\r\n",
        "plt.figure(figsize=(10,7))\r\n",
        "b1 = plt.bar(gridnumber, man['education'].value_counts(), width=0.4,\r\n",
        "                label=\"Men\", align=\"center\")\r\n",
        "\r\n",
        "b2 = plt.bar(gridnumber_2,  woman['education'].value_counts(), color=\"red\", width=0.4,\r\n",
        "                label=\"Women\", align=\"center\")\r\n",
        "plt.gca().set_title('Education and gender - Kaggle Survey')\r\n",
        "plt.legend()\r\n",
        "plt.gca().set_xticklabels( woman['education'].unique(), rotation=45 )\r\n",
        "plt.show()"
      ],
      "execution_count": 54,
      "outputs": [
        {
          "output_type": "display_data",
          "data": {
            "image/png": "[encoded data removed]",
            "text/plain": [
              "<Figure size 720x504 with 1 Axes>"
            ]
          },
          "metadata": {
            "tags": [],
            "needs_background": "light"
          }
        }
      ]
    },
    {
      "cell_type": "code",
      "metadata": {
        "colab": {
          "base_uri": "https://localhost:8080/",
          "height": 298
        },
        "id": "BM9RNKAYiUm9",
        "outputId": "07c833bb-8422-4f83-9300-a62a0ba329d3"
      },
      "source": [
        "mosaic_df = df[df['gender'].isin(['Man', 'Woman']) ]\r\n",
        "mosaic_df['gender'].unique()\r\n",
        "\r\n",
        "mosaic_df = mosaic_df[mosaic_df['education'].isin([\"Master’s\", 'Doctoral','Bachelor']) ]\r\n",
        "mosaic_df['education'].unique()\r\n",
        "\r\n",
        "plt.figure()\r\n",
        "mosaic(mosaic_df, ['gender', 'education'], title='Mosaic Plot Gender, Education')\r\n",
        "plt.show()"
      ],
      "execution_count": 55,
      "outputs": [
        {
          "output_type": "display_data",
          "data": {
            "text/plain": [
              "<Figure size 432x288 with 0 Axes>"
            ]
          },
          "metadata": {
            "tags": []
          }
        },
        {
          "output_type": "display_data",
          "data": {
            "image/png": "[encoded data removed]",
            "text/plain": [
              "<Figure size 432x288 with 3 Axes>"
            ]
          },
          "metadata": {
            "tags": [],
            "needs_background": "light"
          }
        }
      ]
    },
    {
      "cell_type": "code",
      "metadata": {
        "colab": {
          "base_uri": "https://localhost:8080/",
          "height": 365
        },
        "id": "dcZBhkGymMcr",
        "outputId": "719850fa-ce0c-4d97-860e-f32d1f612cba"
      },
      "source": [
        "top_10_countries = df['country'].value_counts()[:10]\r\n",
        "replace_countries = {'United Kingdom of Great Britain and Northern Ireland': 'UK',\r\n",
        "                     'United States of America': 'USA'}\r\n",
        "top_10_countries.rename(replace_countries, inplace=True)\r\n",
        "\r\n",
        "plt.figure(figsize=(8,5))\r\n",
        "pd.Series(top_10_countries).plot.bar( rot=45)\r\n",
        "plt.gca().set_title('Top 10 Countries - Kaggle Survey')\r\n",
        "plt.show()"
      ],
      "execution_count": 56,
      "outputs": [
        {
          "output_type": "display_data",
          "data": {
            "image/png": "[encoded data removed]",
            "text/plain": [
              "<Figure size 576x360 with 1 Axes>"
            ]
          },
          "metadata": {
            "tags": [],
            "needs_background": "light"
          }
        }
      ]
    },
    {
      "cell_type": "code",
      "metadata": {
        "colab": {
          "base_uri": "https://localhost:8080/"
        },
        "id": "ps_Q_x4R96jw",
        "outputId": "aac46688-a390-4bc7-9e11-16444df19e5e"
      },
      "source": [
        "df['recommend_language'].value_counts().head()"
      ],
      "execution_count": 57,
      "outputs": [
        {
          "output_type": "execute_result",
          "data": {
            "text/plain": [
              "Python    14241\n",
              "R          1259\n",
              "SQL         849\n",
              "C++         325\n",
              "C           301\n",
              "Name: recommend_language, dtype: int64"
            ]
          },
          "metadata": {
            "tags": []
          },
          "execution_count": 57
        }
      ]
    },
    {
      "cell_type": "code",
      "metadata": {
        "colab": {
          "base_uri": "https://localhost:8080/",
          "height": 367
        },
        "id": "7ffb88xX9Rwl",
        "outputId": "c1439def-9d98-4f5a-9d1a-53c6998c31cc"
      },
      "source": [
        "plt.figure(figsize=(8,5))\r\n",
        "df['recommend_language'].value_counts()[1:13].plot.bar( rot=45)\r\n",
        "plt.gca().set_title('Recommended Languague after Python- Kaggle Survey')\r\n",
        "plt.show()\r\n",
        "\r\n"
      ],
      "execution_count": 58,
      "outputs": [
        {
          "output_type": "display_data",
          "data": {
            "image/png": "[encoded data removed]",
            "text/plain": [
              "<Figure size 576x360 with 1 Axes>"
            ]
          },
          "metadata": {
            "tags": [],
            "needs_background": "light"
          }
        }
      ]
    },
    {
      "cell_type": "code",
      "metadata": {
        "id": "mkagOECk3t79"
      },
      "source": [
        ""
      ],
      "execution_count": 58,
      "outputs": []
    }
  ]
}