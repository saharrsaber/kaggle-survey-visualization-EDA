{
  "nbformat": 4,
  "nbformat_minor": 0,
  "metadata": {
    "colab": {
      "name": "KaggleSurveyProject.ipynb",
      "provenance": [],
      "collapsed_sections": [],
      "authorship_tag": "ABX9TyPfaTIw580yWVxKBqlK49ZW",
      "include_colab_link": true
    },
    "kernelspec": {
      "name": "python3",
      "display_name": "Python 3"
    }
  },
  "cells": [
    {
      "cell_type": "markdown",
      "metadata": {
        "id": "view-in-github",
        "colab_type": "text"
      },
      "source": [
        "<a href=\"https://colab.research.google.com/github/saharrsaber/kaggle-survey-visualization-EDA/blob/main/KaggleSurveyProject.ipynb\" target=\"_parent\"><img src=\"https://colab.research.google.com/assets/colab-badge.svg\" alt=\"Open In Colab\"/></a>"
      ]
    },
    {
      "cell_type": "markdown",
      "metadata": {
        "id": "7ejNzz_tXRq8"
      },
      "source": [
        "### Importing required libraries\r\n",
        "* Pandas: storing the dataset\r\n",
        "* Matplotlib: visualize the data\r\n",
        "* Numpy: for statistical methods\r\n"
      ]
    },
    {
      "cell_type": "code",
      "metadata": {
        "id": "njVWYK_ZU16t",
        "colab": {
          "base_uri": "https://localhost:8080/"
        },
        "outputId": "9777daa8-8daf-4111-dc86-2f9fc5b23cd4"
      },
      "source": [
        "%matplotlib inline\r\n",
        "import pandas as pd\r\n",
        "import matplotlib.pyplot as plt\r\n",
        "import numpy as np\r\n",
        "from statsmodels.graphics.mosaicplot import mosaic\r\n"
      ],
      "execution_count": 1,
      "outputs": [
        {
          "output_type": "stream",
          "text": [
            "/usr/local/lib/python3.6/dist-packages/statsmodels/tools/_testing.py:19: FutureWarning: pandas.util.testing is deprecated. Use the functions in the public API at pandas.testing instead.\n",
            "  import pandas.util.testing as tm\n"
          ],
          "name": "stderr"
        }
      ]
    },
    {
      "cell_type": "markdown",
      "metadata": {
        "id": "9NnPx7U-VLEj"
      },
      "source": [
        "## Upload Dataset\r\n"
      ]
    },
    {
      "cell_type": "code",
      "metadata": {
        "colab": {
          "base_uri": "https://localhost:8080/"
        },
        "id": "U3JuxcYYYKnS",
        "outputId": "3b0aa968-9c8f-4025-fe6f-109394ffb8d0"
      },
      "source": [
        "from google.colab import drive\r\n",
        "drive.mount('/content/drive')"
      ],
      "execution_count": 2,
      "outputs": [
        {
          "output_type": "stream",
          "text": [
            "Mounted at /content/drive\n"
          ],
          "name": "stdout"
        }
      ]
    },
    {
      "cell_type": "code",
      "metadata": {
        "colab": {
          "base_uri": "https://localhost:8080/"
        },
        "id": "lev2mQ8NYnIo",
        "outputId": "d36973fc-038f-4e95-ea47-aedce1737598"
      },
      "source": [
        "path = \"/content/drive/MyDrive/Python Notebooks/Kaggle Survey/kaggle_survey_2020_responses.csv\"\r\n",
        "DATA = pd.read_csv(path, skiprows=1)\r\n",
        "DATA.columns"
      ],
      "execution_count": 3,
      "outputs": [
        {
          "output_type": "execute_result",
          "data": {
            "text/plain": [
              "Index(['Duration (in seconds)', 'What is your age (# years)?',\n",
              "       'What is your gender? - Selected Choice',\n",
              "       'In which country do you currently reside?',\n",
              "       'What is the highest level of formal education that you have attained or plan to attain within the next 2 years?',\n",
              "       'Select the title most similar to your current role (or most recent title if retired): - Selected Choice',\n",
              "       'For how many years have you been writing code and/or programming?',\n",
              "       'What programming languages do you use on a regular basis? (Select all that apply) - Selected Choice - Python',\n",
              "       'What programming languages do you use on a regular basis? (Select all that apply) - Selected Choice - R',\n",
              "       'What programming languages do you use on a regular basis? (Select all that apply) - Selected Choice - SQL',\n",
              "       ...\n",
              "       'In the next 2 years, do you hope to become more familiar with any of these tools for managing ML experiments? (Select all that apply) - Selected Choice -  Weights & Biases ',\n",
              "       'In the next 2 years, do you hope to become more familiar with any of these tools for managing ML experiments? (Select all that apply) - Selected Choice -  Comet.ml ',\n",
              "       'In the next 2 years, do you hope to become more familiar with any of these tools for managing ML experiments? (Select all that apply) - Selected Choice -  Sacred + Omniboard ',\n",
              "       'In the next 2 years, do you hope to become more familiar with any of these tools for managing ML experiments? (Select all that apply) - Selected Choice -  TensorBoard ',\n",
              "       'In the next 2 years, do you hope to become more familiar with any of these tools for managing ML experiments? (Select all that apply) - Selected Choice -  Guild.ai ',\n",
              "       'In the next 2 years, do you hope to become more familiar with any of these tools for managing ML experiments? (Select all that apply) - Selected Choice -  Polyaxon ',\n",
              "       'In the next 2 years, do you hope to become more familiar with any of these tools for managing ML experiments? (Select all that apply) - Selected Choice -  Trains ',\n",
              "       'In the next 2 years, do you hope to become more familiar with any of these tools for managing ML experiments? (Select all that apply) - Selected Choice -  Domino Model Monitor ',\n",
              "       'In the next 2 years, do you hope to become more familiar with any of these tools for managing ML experiments? (Select all that apply) - Selected Choice - None',\n",
              "       'In the next 2 years, do you hope to become more familiar with any of these tools for managing ML experiments? (Select all that apply) - Selected Choice - Other'],\n",
              "      dtype='object', length=355)"
            ]
          },
          "metadata": {
            "tags": []
          },
          "execution_count": 3
        }
      ]
    },
    {
      "cell_type": "markdown",
      "metadata": {
        "id": "88KrB_Elfccp"
      },
      "source": [
        "Selected Cols"
      ]
    },
    {
      "cell_type": "code",
      "metadata": {
        "colab": {
          "base_uri": "https://localhost:8080/",
          "height": 279
        },
        "id": "guK3Sx4DcxCa",
        "outputId": "059fb780-d7e1-438e-f0b5-c7ccba0d8063"
      },
      "source": [
        "use_cols = ['What is your gender? - Selected Choice',\r\n",
        "       'In which country do you currently reside?',\r\n",
        "       'What is the highest level of formal education that you have attained or plan to attain within the next 2 years?',\r\n",
        "       'Select the title most similar to your current role (or most recent title if retired): - Selected Choice',\r\n",
        "       'For how many years have you been writing code and/or programming?',\r\n",
        "       'What programming language would you recommend an aspiring data scientist to learn first? - Selected Choice',\r\n",
        "       'For how many years have you used machine learning methods?',\r\n",
        "       'What is the size of the company where you are employed?',\r\n",
        "       'Approximately how many individuals are responsible for data science workloads at your place of business?',\r\n",
        "       'Does your current employer incorporate machine learning methods into their business?'\r\n",
        "       ]\r\n",
        "col_names = ['gender', 'country', 'education', 'role', 'years_experience', 'recommend_language', 'years_ML', 'company_size','ds_size','company_ML']\r\n",
        "\r\n",
        "df = pd.read_csv(path, skiprows=1, usecols= use_cols)\r\n",
        "df.columns = col_names\r\n",
        "df.head()"
      ],
      "execution_count": 5,
      "outputs": [
        {
          "output_type": "execute_result",
          "data": {
            "text/html": [
              "<div>\n",
              "<style scoped>\n",
              "    .dataframe tbody tr th:only-of-type {\n",
              "        vertical-align: middle;\n",
              "    }\n",
              "\n",
              "    .dataframe tbody tr th {\n",
              "        vertical-align: top;\n",
              "    }\n",
              "\n",
              "    .dataframe thead th {\n",
              "        text-align: right;\n",
              "    }\n",
              "</style>\n",
              "<table border=\"1\" class=\"dataframe\">\n",
              "  <thead>\n",
              "    <tr style=\"text-align: right;\">\n",
              "      <th></th>\n",
              "      <th>gender</th>\n",
              "      <th>country</th>\n",
              "      <th>education</th>\n",
              "      <th>role</th>\n",
              "      <th>years_experience</th>\n",
              "      <th>recommend_language</th>\n",
              "      <th>years_ML</th>\n",
              "      <th>company_size</th>\n",
              "      <th>ds_size</th>\n",
              "      <th>company_ML</th>\n",
              "    </tr>\n",
              "  </thead>\n",
              "  <tbody>\n",
              "    <tr>\n",
              "      <th>0</th>\n",
              "      <td>Man</td>\n",
              "      <td>Colombia</td>\n",
              "      <td>Doctoral degree</td>\n",
              "      <td>Student</td>\n",
              "      <td>5-10 years</td>\n",
              "      <td>Python</td>\n",
              "      <td>1-2 years</td>\n",
              "      <td>NaN</td>\n",
              "      <td>NaN</td>\n",
              "      <td>NaN</td>\n",
              "    </tr>\n",
              "    <tr>\n",
              "      <th>1</th>\n",
              "      <td>Man</td>\n",
              "      <td>United States of America</td>\n",
              "      <td>Master’s degree</td>\n",
              "      <td>Data Engineer</td>\n",
              "      <td>5-10 years</td>\n",
              "      <td>Python</td>\n",
              "      <td>1-2 years</td>\n",
              "      <td>10,000 or more employees</td>\n",
              "      <td>20+</td>\n",
              "      <td>We have well established ML methods (i.e., mod...</td>\n",
              "    </tr>\n",
              "    <tr>\n",
              "      <th>2</th>\n",
              "      <td>Man</td>\n",
              "      <td>Argentina</td>\n",
              "      <td>Bachelor’s degree</td>\n",
              "      <td>Software Engineer</td>\n",
              "      <td>10-20 years</td>\n",
              "      <td>R</td>\n",
              "      <td>I do not use machine learning methods</td>\n",
              "      <td>1000-9,999 employees</td>\n",
              "      <td>0</td>\n",
              "      <td>No (we do not use ML methods)</td>\n",
              "    </tr>\n",
              "    <tr>\n",
              "      <th>3</th>\n",
              "      <td>Man</td>\n",
              "      <td>United States of America</td>\n",
              "      <td>Master’s degree</td>\n",
              "      <td>Data Scientist</td>\n",
              "      <td>5-10 years</td>\n",
              "      <td>Python</td>\n",
              "      <td>3-4 years</td>\n",
              "      <td>250-999 employees</td>\n",
              "      <td>5-9</td>\n",
              "      <td>We have well established ML methods (i.e., mod...</td>\n",
              "    </tr>\n",
              "    <tr>\n",
              "      <th>4</th>\n",
              "      <td>Man</td>\n",
              "      <td>Japan</td>\n",
              "      <td>Master’s degree</td>\n",
              "      <td>Software Engineer</td>\n",
              "      <td>3-5 years</td>\n",
              "      <td>Python</td>\n",
              "      <td>NaN</td>\n",
              "      <td>NaN</td>\n",
              "      <td>NaN</td>\n",
              "      <td>NaN</td>\n",
              "    </tr>\n",
              "  </tbody>\n",
              "</table>\n",
              "</div>"
            ],
            "text/plain": [
              "  gender  ...                                         company_ML\n",
              "0    Man  ...                                                NaN\n",
              "1    Man  ...  We have well established ML methods (i.e., mod...\n",
              "2    Man  ...                      No (we do not use ML methods)\n",
              "3    Man  ...  We have well established ML methods (i.e., mod...\n",
              "4    Man  ...                                                NaN\n",
              "\n",
              "[5 rows x 10 columns]"
            ]
          },
          "metadata": {
            "tags": []
          },
          "execution_count": 5
        }
      ]
    },
    {
      "cell_type": "code",
      "metadata": {
        "colab": {
          "base_uri": "https://localhost:8080/",
          "height": 166
        },
        "id": "h0hIJP8AfrWm",
        "outputId": "610c74d3-d4d2-43a5-a2ae-d2ae89382e5f"
      },
      "source": [
        "df.describe()"
      ],
      "execution_count": 6,
      "outputs": [
        {
          "output_type": "execute_result",
          "data": {
            "text/html": [
              "<div>\n",
              "<style scoped>\n",
              "    .dataframe tbody tr th:only-of-type {\n",
              "        vertical-align: middle;\n",
              "    }\n",
              "\n",
              "    .dataframe tbody tr th {\n",
              "        vertical-align: top;\n",
              "    }\n",
              "\n",
              "    .dataframe thead th {\n",
              "        text-align: right;\n",
              "    }\n",
              "</style>\n",
              "<table border=\"1\" class=\"dataframe\">\n",
              "  <thead>\n",
              "    <tr style=\"text-align: right;\">\n",
              "      <th></th>\n",
              "      <th>gender</th>\n",
              "      <th>country</th>\n",
              "      <th>education</th>\n",
              "      <th>role</th>\n",
              "      <th>years_experience</th>\n",
              "      <th>recommend_language</th>\n",
              "      <th>years_ML</th>\n",
              "      <th>company_size</th>\n",
              "      <th>ds_size</th>\n",
              "      <th>company_ML</th>\n",
              "    </tr>\n",
              "  </thead>\n",
              "  <tbody>\n",
              "    <tr>\n",
              "      <th>count</th>\n",
              "      <td>20036</td>\n",
              "      <td>20036</td>\n",
              "      <td>19569</td>\n",
              "      <td>19277</td>\n",
              "      <td>19120</td>\n",
              "      <td>17821</td>\n",
              "      <td>16374</td>\n",
              "      <td>11403</td>\n",
              "      <td>11282</td>\n",
              "      <td>11130</td>\n",
              "    </tr>\n",
              "    <tr>\n",
              "      <th>unique</th>\n",
              "      <td>5</td>\n",
              "      <td>55</td>\n",
              "      <td>7</td>\n",
              "      <td>13</td>\n",
              "      <td>7</td>\n",
              "      <td>13</td>\n",
              "      <td>9</td>\n",
              "      <td>5</td>\n",
              "      <td>7</td>\n",
              "      <td>6</td>\n",
              "    </tr>\n",
              "    <tr>\n",
              "      <th>top</th>\n",
              "      <td>Man</td>\n",
              "      <td>India</td>\n",
              "      <td>Master’s degree</td>\n",
              "      <td>Student</td>\n",
              "      <td>3-5 years</td>\n",
              "      <td>Python</td>\n",
              "      <td>Under 1 year</td>\n",
              "      <td>0-49 employees</td>\n",
              "      <td>1-2</td>\n",
              "      <td>We are exploring ML methods (and may one day p...</td>\n",
              "    </tr>\n",
              "    <tr>\n",
              "      <th>freq</th>\n",
              "      <td>15789</td>\n",
              "      <td>5851</td>\n",
              "      <td>7859</td>\n",
              "      <td>5171</td>\n",
              "      <td>4546</td>\n",
              "      <td>14241</td>\n",
              "      <td>6312</td>\n",
              "      <td>4208</td>\n",
              "      <td>2645</td>\n",
              "      <td>2353</td>\n",
              "    </tr>\n",
              "  </tbody>\n",
              "</table>\n",
              "</div>"
            ],
            "text/plain": [
              "       gender  ...                                         company_ML\n",
              "count   20036  ...                                              11130\n",
              "unique      5  ...                                                  6\n",
              "top       Man  ...  We are exploring ML methods (and may one day p...\n",
              "freq    15789  ...                                               2353\n",
              "\n",
              "[4 rows x 10 columns]"
            ]
          },
          "metadata": {
            "tags": []
          },
          "execution_count": 6
        }
      ]
    },
    {
      "cell_type": "code",
      "metadata": {
        "colab": {
          "base_uri": "https://localhost:8080/"
        },
        "id": "Vm3erVq3tOAj",
        "outputId": "e130fd96-f5e6-40be-a787-5597efe2611e"
      },
      "source": [
        "print(df['gender'].unique())\r\n",
        "replace_gender = {\r\n",
        "    'Prefer not to say': 'Others',\r\n",
        "    'Prefer to self-describe': 'Others',\r\n",
        "    'Nonbinary': 'Others', \r\n",
        "}\r\n",
        "df['gender'].replace(replace_gender, inplace=True)\r\n",
        "df['gender'].unique()"
      ],
      "execution_count": 7,
      "outputs": [
        {
          "output_type": "stream",
          "text": [
            "['Man' 'Woman' 'Prefer to self-describe' 'Prefer not to say' 'Nonbinary']\n"
          ],
          "name": "stdout"
        },
        {
          "output_type": "execute_result",
          "data": {
            "text/plain": [
              "array(['Man', 'Woman', 'Others'], dtype=object)"
            ]
          },
          "metadata": {
            "tags": []
          },
          "execution_count": 7
        }
      ]
    },
    {
      "cell_type": "code",
      "metadata": {
        "colab": {
          "base_uri": "https://localhost:8080/",
          "height": 482
        },
        "id": "B6Pi_9sHicgb",
        "outputId": "387f39c6-f341-451d-fd1f-cdbf4c88e0bd"
      },
      "source": [
        "colors = ['lightskyblue', 'lightcoral', 'orange']\r\n",
        "plt.figure()\r\n",
        "df[\"gender\"].value_counts().plot.pie(figsize=(8,8), autopct='%1.0f%%',labeldistance = 0.7, colors = colors)\r\n",
        "plt.gca().set_title('Kaggle Survey Gender')\r\n",
        "plt.gca().legend(['Man', 'Woman','Prefer not to say', 'self-desc'])\r\n",
        "plt.axis('equal')\r\n",
        "plt.show()"
      ],
      "execution_count": 8,
      "outputs": [
        {
          "output_type": "display_data",
          "data": {
            "image/png": "[encoded data removed]",
            "text/plain": [
              "<Figure size 576x576 with 1 Axes>"
            ]
          },
          "metadata": {
            "tags": []
          }
        }
      ]
    },
    {
      "cell_type": "code",
      "metadata": {
        "colab": {
          "base_uri": "https://localhost:8080/"
        },
        "id": "zRrJqg9VmmCk",
        "outputId": "517159d9-a5a1-4bc2-bb31-953473263cb1"
      },
      "source": [
        "print(df['education'].unique())\r\n",
        "replace_edu = {\r\n",
        "    'Bachelor’s degree': 'Bachelor',\r\n",
        "    'Doctoral degree': 'Doctoral',\r\n",
        "    'I prefer not to answer':'prefer not to say',\r\n",
        "    'Master’s degree': 'Master’s',\r\n",
        "    'No formal education past high school':'High School',\r\n",
        "    'Professional degree':'Professional degree',\r\n",
        "    'Some college/university study without earning a bachelor’s degree':'some uni'\r\n",
        "}\r\n",
        "df['education'].replace(replace_edu, inplace=True)\r\n",
        "df['education'].unique()"
      ],
      "execution_count": 9,
      "outputs": [
        {
          "output_type": "stream",
          "text": [
            "['Doctoral degree' 'Master’s degree' 'Bachelor’s degree'\n",
            " 'No formal education past high school'\n",
            " 'Some college/university study without earning a bachelor’s degree'\n",
            " 'Professional degree' 'I prefer not to answer' nan]\n"
          ],
          "name": "stdout"
        },
        {
          "output_type": "execute_result",
          "data": {
            "text/plain": [
              "array(['Doctoral', 'Master’s', 'Bachelor', 'High School', 'some uni',\n",
              "       'Professional degree', 'prefer not to say', nan], dtype=object)"
            ]
          },
          "metadata": {
            "tags": []
          },
          "execution_count": 9
        }
      ]
    },
    {
      "cell_type": "code",
      "metadata": {
        "colab": {
          "base_uri": "https://localhost:8080/",
          "height": 482
        },
        "id": "DnylcJ11xo-b",
        "outputId": "bd024240-0e6b-4d42-8d8e-a4488466d656"
      },
      "source": [
        "plt.figure()\r\n",
        "colors = ['lightskyblue', 'lightcoral', 'orange', '#7bed9f', '#a4b0be','#B33771','#BDC581']\r\n",
        "explode = [0.01]*7\r\n",
        "df[\"education\"].value_counts().plot.pie(figsize=(8,8), autopct='%1.0f%%',labeldistance = 0.75, colors = colors, explode = explode)\r\n",
        "plt.gca().set_title('Highest Degree Education - Kaggle Survey')\r\n",
        "plt.axis('equal')\r\n",
        "plt.show()"
      ],
      "execution_count": 10,
      "outputs": [
        {
          "output_type": "display_data",
          "data": {
            "image/png": "[encoded data removed]",
            "text/plain": [
              "<Figure size 576x576 with 1 Axes>"
            ]
          },
          "metadata": {
            "tags": []
          }
        }
      ]
    },
    {
      "cell_type": "code",
      "metadata": {
        "colab": {
          "base_uri": "https://localhost:8080/",
          "height": 166
        },
        "id": "s9Ba5iwghTjo",
        "outputId": "4704f4e3-4e03-4c6d-8fe2-01e11d36801a"
      },
      "source": [
        "pd.crosstab(index=df[\"gender\"], columns=df[\"education\"])  "
      ],
      "execution_count": 11,
      "outputs": [
        {
          "output_type": "execute_result",
          "data": {
            "text/html": [
              "<div>\n",
              "<style scoped>\n",
              "    .dataframe tbody tr th:only-of-type {\n",
              "        vertical-align: middle;\n",
              "    }\n",
              "\n",
              "    .dataframe tbody tr th {\n",
              "        vertical-align: top;\n",
              "    }\n",
              "\n",
              "    .dataframe thead th {\n",
              "        text-align: right;\n",
              "    }\n",
              "</style>\n",
              "<table border=\"1\" class=\"dataframe\">\n",
              "  <thead>\n",
              "    <tr style=\"text-align: right;\">\n",
              "      <th>education</th>\n",
              "      <th>Bachelor</th>\n",
              "      <th>Doctoral</th>\n",
              "      <th>High School</th>\n",
              "      <th>Master’s</th>\n",
              "      <th>Professional degree</th>\n",
              "      <th>prefer not to say</th>\n",
              "      <th>some uni</th>\n",
              "    </tr>\n",
              "    <tr>\n",
              "      <th>gender</th>\n",
              "      <th></th>\n",
              "      <th></th>\n",
              "      <th></th>\n",
              "      <th></th>\n",
              "      <th></th>\n",
              "      <th></th>\n",
              "      <th></th>\n",
              "    </tr>\n",
              "  </thead>\n",
              "  <tbody>\n",
              "    <tr>\n",
              "      <th>Man</th>\n",
              "      <td>5596</td>\n",
              "      <td>1765</td>\n",
              "      <td>218</td>\n",
              "      <td>6125</td>\n",
              "      <td>563</td>\n",
              "      <td>281</td>\n",
              "      <td>898</td>\n",
              "    </tr>\n",
              "    <tr>\n",
              "      <th>Others</th>\n",
              "      <td>100</td>\n",
              "      <td>49</td>\n",
              "      <td>8</td>\n",
              "      <td>126</td>\n",
              "      <td>8</td>\n",
              "      <td>45</td>\n",
              "      <td>23</td>\n",
              "    </tr>\n",
              "    <tr>\n",
              "      <th>Woman</th>\n",
              "      <td>1282</td>\n",
              "      <td>488</td>\n",
              "      <td>14</td>\n",
              "      <td>1608</td>\n",
              "      <td>128</td>\n",
              "      <td>73</td>\n",
              "      <td>171</td>\n",
              "    </tr>\n",
              "  </tbody>\n",
              "</table>\n",
              "</div>"
            ],
            "text/plain": [
              "education  Bachelor  Doctoral  ...  prefer not to say  some uni\n",
              "gender                         ...                             \n",
              "Man            5596      1765  ...                281       898\n",
              "Others          100        49  ...                 45        23\n",
              "Woman          1282       488  ...                 73       171\n",
              "\n",
              "[3 rows x 7 columns]"
            ]
          },
          "metadata": {
            "tags": []
          },
          "execution_count": 11
        }
      ]
    },
    {
      "cell_type": "code",
      "metadata": {
        "id": "nJjI_xNzz08G"
      },
      "source": [
        "man = df[df['gender'] == 'Man']\r\n",
        "woman = df[df['gender'] == 'Woman']\r\n"
      ],
      "execution_count": 38,
      "outputs": []
    },
    {
      "cell_type": "code",
      "metadata": {
        "colab": {
          "base_uri": "https://localhost:8080/",
          "height": 511
        },
        "id": "VxR0a1T2zPvU",
        "outputId": "fb650ea1-8a74-4f81-8ee3-448cac90e2fc"
      },
      "source": [
        "gridnumber = range(1,8)\r\n",
        "gridnumber_2 = [i+0.4 for i in gridnumber ]\r\n",
        "plt.figure(figsize=(10,7))\r\n",
        "b1 = plt.bar(gridnumber, man['education'].value_counts(), width=0.4,\r\n",
        "                label=\"Men\", align=\"center\")\r\n",
        "\r\n",
        "b2 = plt.bar(gridnumber_2,  woman['education'].value_counts(), color=\"red\", width=0.4,\r\n",
        "                label=\"Women\", align=\"center\")\r\n",
        "plt.gca().set_title('Education and gender - Kaggle Survey')\r\n",
        "plt.legend()\r\n",
        "plt.gca().set_xticklabels( woman['education'].unique(), rotation=45 )\r\n",
        "plt.show()"
      ],
      "execution_count": 42,
      "outputs": [
        {
          "output_type": "display_data",
          "data": {
            "image/png": "[encoded data removed]",
            "text/plain": [
              "<Figure size 720x504 with 1 Axes>"
            ]
          },
          "metadata": {
            "tags": [],
            "needs_background": "light"
          }
        }
      ]
    },
    {
      "cell_type": "code",
      "metadata": {
        "colab": {
          "base_uri": "https://localhost:8080/",
          "height": 299
        },
        "id": "BM9RNKAYiUm9",
        "outputId": "5aa90166-8dd4-444e-c1ee-03eab6e3645d"
      },
      "source": [
        "mosaic_df = df[df['gender'].isin(['Man', 'Woman']) ]\r\n",
        "mosaic_df['gender'].unique()\r\n",
        "\r\n",
        "mosaic_df = mosaic_df[mosaic_df['education'].isin([\"Master’s\", 'Doctoral','Bachelor']) ]\r\n",
        "mosaic_df['education'].unique()\r\n",
        "\r\n",
        "plt.figure()\r\n",
        "mosaic(mosaic_df, ['gender', 'education'], title='Mosaic Plot Gender, Education')\r\n",
        "plt.show()"
      ],
      "execution_count": null,
      "outputs": [
        {
          "output_type": "display_data",
          "data": {
            "text/plain": [
              "<Figure size 432x288 with 0 Axes>"
            ]
          },
          "metadata": {
            "tags": []
          }
        },
        {
          "output_type": "display_data",
          "data": {
            "image/png": "[encoded data removed]",
            "text/plain": [
              "<Figure size 432x288 with 3 Axes>"
            ]
          },
          "metadata": {
            "tags": [],
            "needs_background": "light"
          }
        }
      ]
    },
    {
      "cell_type": "code",
      "metadata": {
        "colab": {
          "base_uri": "https://localhost:8080/",
          "height": 366
        },
        "id": "dcZBhkGymMcr",
        "outputId": "2e4db5b2-d8c8-4e40-e963-269a25ccdb05"
      },
      "source": [
        "top_10_countries = df['country'].value_counts()[:10]\r\n",
        "replace_countries = {'United Kingdom of Great Britain and Northern Ireland': 'UK',\r\n",
        "                     'United States of America': 'USA'}\r\n",
        "top_10_countries.rename(replace_countries, inplace=True)\r\n",
        "\r\n",
        "plt.figure(figsize=(8,5))\r\n",
        "pd.Series(top_10_countries).plot.bar( rot=45)\r\n",
        "plt.gca().set_title('Top 10 Countries - Kaggle Survey')\r\n",
        "plt.show()"
      ],
      "execution_count": null,
      "outputs": [
        {
          "output_type": "display_data",
          "data": {
            "image/png": "[encoded data removed]",
            "text/plain": [
              "<Figure size 576x360 with 1 Axes>"
            ]
          },
          "metadata": {
            "tags": [],
            "needs_background": "light"
          }
        }
      ]
    },
    {
      "cell_type": "code",
      "metadata": {
        "colab": {
          "base_uri": "https://localhost:8080/"
        },
        "id": "ps_Q_x4R96jw",
        "outputId": "fef1b74a-213b-4b0f-cf73-a01951f27c65"
      },
      "source": [
        "df['recommend_language'].value_counts().head()"
      ],
      "execution_count": null,
      "outputs": [
        {
          "output_type": "execute_result",
          "data": {
            "text/plain": [
              "Python    14241\n",
              "R          1259\n",
              "SQL         849\n",
              "C++         325\n",
              "C           301\n",
              "Name: recommend_language, dtype: int64"
            ]
          },
          "metadata": {
            "tags": []
          },
          "execution_count": 22
        }
      ]
    },
    {
      "cell_type": "code",
      "metadata": {
        "colab": {
          "base_uri": "https://localhost:8080/",
          "height": 368
        },
        "id": "7ffb88xX9Rwl",
        "outputId": "49d55cb7-1a07-4428-dc11-49dd3a31817d"
      },
      "source": [
        "plt.figure(figsize=(8,5))\r\n",
        "df['recommend_language'].value_counts()[1:13].plot.bar( rot=45)\r\n",
        "plt.gca().set_title('Recommended Languague after Python- Kaggle Survey')\r\n",
        "plt.show()\r\n",
        "\r\n"
      ],
      "execution_count": null,
      "outputs": [
        {
          "output_type": "display_data",
          "data": {
            "image/png": "[encoded data removed]",
            "text/plain": [
              "<Figure size 576x360 with 1 Axes>"
            ]
          },
          "metadata": {
            "tags": [],
            "needs_background": "light"
          }
        }
      ]
    }
  ]
}